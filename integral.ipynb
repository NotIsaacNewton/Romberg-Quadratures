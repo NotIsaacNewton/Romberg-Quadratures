{
 "cells": [
  {
   "cell_type": "code",
   "execution_count": null,
   "metadata": {},
   "outputs": [],
   "source": [
    "from integrate import *\n",
    "\n",
    "#USER-DEFINED CONSTANTS AND VARIABLES\n",
    "a = 0\n",
    "b = 10\n",
    "steps = 1\n",
    "\n",
    "#FUNCTION TO BE INTEGRATED\n",
    "def f(x):\n",
    "    y = x**2\n",
    "    return y\n",
    "\n",
    "#CALCULATION OF DELTA-X\n",
    "delta_x = (b-a)*(steps**(-1))\n",
    "\n",
    "#ARRAYS\n",
    "I = [[0]]\n",
    "ordsum = [0]\n",
    "\n",
    "\n",
    "#ROMBERG QUADRATURE METHOD WITH TRAPEZOIDAL SUMS\n",
    "ordsum.append(trapezoidal_ordsum(steps, a, b, a, b, delta_x, f)) #CALCULATE FIRST ORDINATE SUM\n",
    "I[0].extend([ordsum[-1] * delta_x]) #CALCULATE FIRST INTEGRAL\n",
    "\n",
    "delta_I = 10 #SET DIFFERENCE TO START LOOP\n",
    "n = 1\n",
    "while delta_I > 0.001:\n",
    "    steps_new = steps * (2**(n-1)) #DOUBLE THE NUMBER OF STEPS\n",
    "    delta_x_new = delta_x * (0.5**(n-1)) #CALCULATE NEW DELTA-X\n",
    "    a_new = a + (delta_x * (0.5**n)) #CALCULATE NEW STARTING POINT\n",
    "    b_new = b - (delta_x * (0.5**n)) #CALCULATE NEW ENDING POINT\n",
    "    ordsum.append(ordsum[-1] + trapezoidal_ordsum(steps_new, a, b, a_new, b_new, delta_x_new, f)) #UPDATE ORDINATE SUM\n",
    "    I[0].extend([ordsum[-1] * (delta_x * (0.5**n))]) #UPDATE INTEGRAL ARRAY\n",
    "        \n",
    "    k = 1\n",
    "    while (k-1) < n:\n",
    "        if k == n:\n",
    "            I.append([((4**k * I[k-1][-1]) - I[k-1][-2])/((4**k)-1)]) #APPLY ROMBERG QUADRATURE METHOD AND UPDATE THE TABLE\n",
    "        else:\n",
    "            I[k].extend([((4**k * I[k-1][-1]) - I[k-1][-2])/((4**k)-1)]) #APPLY ROMBERG QUADRATURE METHOD AND UPDATE THE TABLE\n",
    "        k += 1 #MOVE TO NEXT ITERATION\n",
    "        \n",
    "    delta_I = abs(I[-1][-1] - I[-2][-1]) #CALCULATE NEW DIFFERENCE BETWEEN INTEGRALS \n",
    "    n += 1 #MOVE FORWARDS TO NEXT ITERATION\n",
    "\n",
    "print(I) #PRINT ROMBERG QUADRATURES\n",
    "print(I[-1][-1]) #PRINT FINAL RESULT"
   ]
  },
  {
   "cell_type": "code",
   "execution_count": null,
   "metadata": {},
   "outputs": [],
   "source": []
  }
 ],
 "metadata": {
  "kernelspec": {
   "display_name": "Python 3",
   "language": "python",
   "name": "python3"
  },
  "language_info": {
   "codemirror_mode": {
    "name": "ipython",
    "version": 3
   },
   "file_extension": ".py",
   "mimetype": "text/x-python",
   "name": "python",
   "nbconvert_exporter": "python",
   "pygments_lexer": "ipython3",
   "version": "3.8.3"
  }
 },
 "nbformat": 4,
 "nbformat_minor": 4
}
