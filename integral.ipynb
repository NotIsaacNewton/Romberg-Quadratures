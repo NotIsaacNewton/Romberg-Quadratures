from integrate import *

#USER-DEFINED CONSTANTS AND VARIABLES
a = 0
b = 10
steps = 1

#FUNCTION TO BE INTEGRATED
def f(x):
    y = x**2
    return y

#CALCULATION OF DELTA-X
delta_x = (b-a)*(steps**(-1))

#ARRAYS
I = [[0]]
ordsum = [0]


#ROMBERG QUADRATURE METHOD WITH TRAPEZOIDAL SUMS
ordsum.append(trapezoidal_ordsum(steps, a, b, a, b, delta_x, f)) #CALCULATE FIRST ORDINATE SUM
I[0].extend([ordsum[-1] * delta_x]) #CALCULATE FIRST INTEGRAL

delta_I = 10 #SET DIFFERENCE TO START LOOP
n = 1
while delta_I > 0.001:
    steps_new = steps * (2**(n-1)) #DOUBLE THE NUMBER OF STEPS
    delta_x_new = delta_x * (0.5**(n-1)) #CALCULATE NEW DELTA-X
    a_new = a + (delta_x * (0.5**n)) #CALCULATE NEW STARTING POINT
    b_new = b - (delta_x * (0.5**n)) #CALCULATE NEW ENDING POINT
    ordsum.append(ordsum[-1] + trapezoidal_ordsum(steps_new, a, b, a_new, b_new, delta_x_new, f)) #UPDATE ORDINATE SUM
    I[0].extend([ordsum[-1] * (delta_x * (0.5**n))]) #UPDATE INTEGRAL ARRAY
        
    k = 1
    while (k-1) < n:
        if k == n:
            I.append([((4**k * I[k-1][-1]) - I[k-1][-2])/((4**k)-1)]) #APPLY ROMBERG QUADRATURE METHOD AND UPDATE THE TABLE
        else:
            I[k].extend([((4**k * I[k-1][-1]) - I[k-1][-2])/((4**k)-1)]) #APPLY ROMBERG QUADRATURE METHOD AND UPDATE THE TABLE
        k += 1 #MOVE TO NEXT ITERATION
        
    delta_I = abs(I[-1][-1] - I[-2][-1]) #CALCULATE NEW DIFFERENCE BETWEEN INTEGRALS 
    n += 1 #MOVE FORWARDS TO NEXT ITERATION

print(I) #PRINT ROMBERG QUADRATURES
print(I[-1][-1]) #PRINT FINAL RESULT
